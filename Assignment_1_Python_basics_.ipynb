{
  "nbformat": 4,
  "nbformat_minor": 0,
  "metadata": {
    "colab": {
      "provenance": []
    },
    "kernelspec": {
      "name": "python3",
      "display_name": "Python 3"
    },
    "language_info": {
      "name": "python"
    }
  },
  "cells": [
    {
      "cell_type": "markdown",
      "source": [
        "# **Python Basic Questions**\n"
      ],
      "metadata": {
        "id": "xGft7wE1yD1-"
      }
    },
    {
      "cell_type": "markdown",
      "source": [
        "1- What is Python, and why is it popular?\n",
        " - Python is a programming language which is widely used for applications such as web development, data analysis, artificial intelligence, software development etc. due to its readability, flexibiltiy and wide range of availble libraries.\n",
        "\n",
        " Python is popular for the below points:\n",
        "\n",
        "\n",
        "*   Simplicity and Readability\n",
        "*   Versatility\n",
        "\n",
        "\n",
        "*   Extensive Libraries\n",
        "*   Large and Supportive Commmunity\n",
        "\n",
        "\n",
        "*   Data Science\n",
        "*   Machine Learning\n",
        "\n",
        "\n",
        "*   Automation\n",
        "*   Object Oriented Programming\n",
        "\n",
        "*   Open Source Language\n",
        "\n",
        "\n",
        "\n",
        "\n",
        "\n",
        "\n",
        "\n",
        "\n",
        "\n",
        "\n",
        "\n",
        "\n",
        "\n",
        "\n",
        "  \n",
        "\n",
        "\n"
      ],
      "metadata": {
        "id": "hpBC9R2ryQ0C"
      }
    },
    {
      "cell_type": "markdown",
      "source": [
        "2 - What is an interpreter in Python?\n",
        " - Interpreter is a program which help in executing the  Python code line by line, so it can translate each instruction into machine readable code so that computer can understand what we are trying to command.\n",
        "\n"
      ],
      "metadata": {
        "id": "fahjD_SB236J"
      }
    },
    {
      "cell_type": "markdown",
      "source": [
        "3 -  What are pre-defined keywords in Python?\n",
        "  -   The predefined keywords are the reserved words that  have a special meaning and cannot be used as identifiers - such as variable names, function names, or class names.\n",
        "\n",
        "  Ex - def, class, int, for , and, false and many more."
      ],
      "metadata": {
        "id": "Mi7MuILk4DzF"
      }
    },
    {
      "cell_type": "markdown",
      "source": [
        "4- Can keywords be used as variable names?\n",
        " - No, keywords can not be used as variable names  because when usin them it will cause the syntax error."
      ],
      "metadata": {
        "id": "vBBvQHtFiGOy"
      }
    },
    {
      "cell_type": "markdown",
      "source": [
        "5 - What is mutability in Python?\n",
        " - Mutability is basicallt refers to whether or not an object can be modified or changed after it is created.\n",
        " There are two type of mutability:\n",
        "\n",
        "1.   Mutable Objects - Objects that can be changed or modified after creation. Ex - Lists\n",
        "\n",
        "2.   Immutable Objects - Objects that can not be changed or modified once they are created.\n",
        "Ex - Tuple\n"
      ],
      "metadata": {
        "id": "qhtUMXO_jKQ0"
      }
    },
    {
      "cell_type": "markdown",
      "source": [
        "6 - Why are lists mutable, but tuples are immutable?\n",
        " - Tuples and Lists are basically the same in every way except it uses parentheses ( ) instead of square bracket[ ] due to which items mentioned in tuples are immutable.\n",
        " In the list we can make modification after the creation at any point of the program."
      ],
      "metadata": {
        "id": "VkT3D-bWmJzc"
      }
    },
    {
      "cell_type": "markdown",
      "source": [
        "7 - What is the difference between “==” and “is” operators in Python?\n",
        " - These both are the comparison operators in Python. \"==\" operator compare value for equallty meaning it compares te value of objects while \"is\" operator checks if two variables are referring to same object."
      ],
      "metadata": {
        "id": "VGyY0Y-CovPa"
      }
    },
    {
      "cell_type": "markdown",
      "source": [
        "8 - What are logical operators in Python?\n",
        " - Logical operators are also known as boolean operators which are used to combine or modify boolean Vale(True or False) and evaluating conditions.\n",
        " There are three logical operator and, or , not.\n",
        "   - and - it returns true if both statements are true.\n",
        "   - or - it will return true if anyone of the statements are true.\n",
        "   - not - it reverses the result, if the result is true it will return False."
      ],
      "metadata": {
        "id": "t0vzE70tp_0S"
      }
    },
    {
      "cell_type": "markdown",
      "source": [
        "9 - What is type casting in Python?\n",
        " - Typecasting is the process to convert from one data type to another manually or automatically. As python provides bulit in function for explicit conversion of data types.\n",
        "  There are two types of type casting.\n",
        "  - Implicit Typecasting\n",
        "  - Explicit type casting"
      ],
      "metadata": {
        "id": "og7C1-gdrnWd"
      }
    },
    {
      "cell_type": "markdown",
      "source": [
        "10 - What is the difference between implicit and explicit type casting?\n",
        " - Implicit typecasting automatically converts the data type. this is done to allow user to perform operations on the data type.\n",
        "  - Ex - If you add an integer to a float, the float will be automatically converted to integer.\n",
        " - In explicit Typecasting the data is manually converted. The predicted functions are used like int(), float(), str() etc.\n"
      ],
      "metadata": {
        "id": "A1uuW4BbsUig"
      }
    },
    {
      "cell_type": "markdown",
      "source": [
        "11 - What is the purpose of conditional statements in Python?\n",
        " - These allow decision making in python by executing different code blocks based on conditions.There are three type of condition statements:\n",
        "  - If statement: Execute a block of code, if a condition is True.\n",
        "  - If - else statement: Execute one block of code if True , another if False.\n",
        "  - If- elif-else statement: Check multiple conditions sequentially and the execute."
      ],
      "metadata": {
        "id": "3R6BKG1rtW8N"
      }
    },
    {
      "cell_type": "markdown",
      "source": [
        "12 - How does the elif statement work?\n",
        " - it is basically used to check multiple conditions before executing.\n",
        "   - if-elif-else statement syntax\n",
        "   - if - condition1:\n",
        "   - - do this\n",
        "   - elif condition 2:\n",
        "   - - do this\n",
        "   - elif condition 3:\n",
        "   - - do this\n",
        "   - else condition 4:\n",
        "   - - do this\n",
        "\n",
        "\n",
        "  \n"
      ],
      "metadata": {
        "id": "N1G93GO9uc3A"
      }
    },
    {
      "cell_type": "markdown",
      "source": [
        "13 - What is the difference between for and while loops?\n",
        " - These both loops are used to repeat actions but ther differ in their functionality.\n",
        "   - For loop- It allows automatic transmission and for variable is iterable.\n",
        "   - While loop - It allows manual transmission. It runs until a condition is not true.\n"
      ],
      "metadata": {
        "id": "HQC6_5-EvZop"
      }
    },
    {
      "cell_type": "markdown",
      "source": [
        "14 - Describe a scenario where a while loop is more suitable than a for loop.\n",
        "- While loop is best used when you don't know the number of iterations in advance whereas in For loop is used when you know the number of iterations ahead of time.\n"
      ],
      "metadata": {
        "id": "1U0Og7S3wLSt"
      }
    },
    {
      "cell_type": "code",
      "source": [],
      "metadata": {
        "id": "Cf_e7ianw4ea"
      },
      "execution_count": null,
      "outputs": []
    },
    {
      "cell_type": "markdown",
      "source": [],
      "metadata": {
        "id": "3dpqg_e0mY5n"
      }
    },
    {
      "cell_type": "markdown",
      "source": [
        "#**Practical Questions**"
      ],
      "metadata": {
        "id": "A0z2yBhdMu-I"
      }
    },
    {
      "cell_type": "code",
      "source": [
        "# 1- Write a Python program to print \"Hello, World!\n",
        "\n",
        "print(\"Hello World\")"
      ],
      "metadata": {
        "id": "GsAW7rB0N8Mk"
      },
      "execution_count": null,
      "outputs": []
    },
    {
      "cell_type": "code",
      "source": [
        "# 2-Write a Python program that displays your name and age\n",
        "\n",
        "name = \"Anjali\"\n",
        "age = 27\n",
        "\n",
        "print(f\"My name is: {name} and I am : {age} years old\")\n"
      ],
      "metadata": {
        "id": "rYhtvwZFOWfv"
      },
      "execution_count": null,
      "outputs": []
    },
    {
      "cell_type": "code",
      "source": [
        "# 3- Write code to print all the pre-defined keywords in Python using the keyword library.\n",
        "\n",
        "import keyword\n",
        "\n",
        "print(keyword.kwlist)\n"
      ],
      "metadata": {
        "collapsed": true,
        "id": "367dopcubrnU"
      },
      "execution_count": null,
      "outputs": []
    },
    {
      "cell_type": "code",
      "source": [
        "# 4- Write a program that checks if a given word is a Python keyword.\n",
        "\n",
        "import keyword\n",
        "\n",
        "word = input(\"Enter a word: \")\n",
        "\n",
        "if keyword.iskeyword(word):\n",
        "    print(f\"{word} is a Python keyword.\")\n",
        "else:\n",
        "    print(f\"{word} is not a Python keyword.\")"
      ],
      "metadata": {
        "id": "vb55KjyVbefG"
      },
      "execution_count": null,
      "outputs": []
    },
    {
      "cell_type": "code",
      "source": [
        "# 5- Create a list and tuple in Python, and demonstrate how attempting to change an element works differently for each.\n",
        "\n",
        "#creating a list\n",
        "\n",
        "my_list =[1, 2, 3, 4, 5]\n",
        "\n",
        "#change element in list\n",
        "my_list[0] = 10\n",
        "print(\"Modified list:\", my_list)\n",
        "\n",
        "#creating a tuple\n",
        "my_tuple = (1, 2, 3, 4, 5)\n",
        "\n",
        "#change element in the tuple\n",
        "my_tuple[0] = 10\n",
        "print[\"Modified tuple:\", my_tuple] #will provide error as there cannot be any modification in tuple.\n"
      ],
      "metadata": {
        "collapsed": true,
        "id": "MV711H_nbqAL"
      },
      "execution_count": null,
      "outputs": []
    },
    {
      "cell_type": "code",
      "source": [
        "# 6 / 7-  Write a function to demonstrate the behavior of mutable and immutable arguments.\n",
        "\n",
        "def modify_aruments(my_list, my_tuple):\n",
        "\n",
        "    my_list[0] = 10\n",
        "    print(\"Modified list inside function:\", my_list)\n",
        "\n",
        "# modifying the tuple  raises a typeerror.\n",
        "\n",
        "    try:\n",
        "      my_tuple[0]=10\n",
        "    except TypeError as e:\n",
        "      print(\"Error:\", e)\n",
        "\n",
        "my_list = [1, 2, 3, 4, 5] #creating a list. Mutable in nature and can be modified.\n",
        "my_tuple = (1, 2, 3, 4, 5) # creating a tuple. Immutable in nature and cannot be modified when calling the function\n",
        "\n",
        "#print orginal values\n",
        "print(\"Original list:\", my_list)\n",
        "print(\"Original tuple:\", my_tuple)\n",
        "\n",
        "#call the function with list and tuple as arguments\n",
        "modify_aruments(my_list, my_tuple)\n",
        "\n",
        "#print modified values\n",
        "print(\"Modified list outside function:\", my_list)\n",
        "print(\"Modified tuple outside function:\", my_tuple)\n"
      ],
      "metadata": {
        "collapsed": true,
        "id": "vDny4FsNeVeC"
      },
      "execution_count": null,
      "outputs": []
    },
    {
      "cell_type": "code",
      "source": [
        "# 8-Write a program to demonstrate the use of logical operators\n",
        "\n",
        "def demonstrate_logical_operators():\n",
        "  \"\"\" demonstartes the use of logical operators in Python.\"\"\"\n",
        "\n",
        "a = True\n",
        "b = False\n",
        "\n",
        "\n",
        "# Logical AND\n",
        "print(f\"a and b: {a and b}\")  # Output: False\n",
        "\n",
        "# Logical OR\n",
        "print(f\"a or b: {a or b}\")  # Output: True\n",
        "\n",
        "# Logical NOT\n",
        "print(f\"not a: {not a}\")  # Output: False\n",
        "print(f\"not b: {not b}\")  #outpu :t True\n",
        "\n",
        "\n",
        "demonstrate_logical_operators()"
      ],
      "metadata": {
        "id": "CQZBJcKqhuOT"
      },
      "execution_count": null,
      "outputs": []
    },
    {
      "cell_type": "code",
      "source": [
        "# 9-  Write a Python program to convert user input from string to integer, float, and boolean types.\n",
        "\n",
        "def convert_user_input():\n",
        "  \"\"\" Converts user input to integer, float, and boolean types.\"\"\"\n",
        "\n",
        "# Get user input\n",
        "  a = input(\"Enter a value: \")\n",
        "\n",
        "  try:\n",
        "    integer_value = int(a)\n",
        "    print(f\"Integer value: {integer_value}\")\n",
        "  except:\n",
        "    print(\"Invalid input. Please enter a valid value for integer conversion.\")\n",
        "\n",
        "  try:\n",
        "    float_value = float(a)\n",
        "    print(f\"Float value: {float_value}\")\n",
        "  except:\n",
        "    print(\"Invalid input. Please enter a valid value for float conversion.\")\n",
        "\n",
        "  try:\n",
        "    if a.lower() in [\"true\", \"false\"]:\n",
        "      boolean_value = a.lower() == \"true\"\n",
        "      print(f\"Boolean value: {boolean_value}\")\n",
        "    else:\n",
        "      print(\"Invalid input. Please enter 'true' or 'false' for boolean conversion.\")\n",
        "  except:\n",
        "    print(\"Invalid input. Please enter 'true' or 'false' for boolean conversion.\")\n",
        "\n",
        "convert_user_input()\n"
      ],
      "metadata": {
        "collapsed": true,
        "id": "7LCUT5O7keWw"
      },
      "execution_count": null,
      "outputs": []
    },
    {
      "cell_type": "code",
      "source": [
        "# 10- Write code to demonstrate type casting with list elements0\n",
        "\n",
        "def demonstrate_type_casting():\n",
        "  \"\"\" To demonstarte type casting with list elements.\"\"\"\n",
        "\n",
        "  my_list = [\"1\", \"2.5\", 3, \"True\"]\n",
        "\n",
        "  print(\"Original list:\", my_list)\n",
        "\n",
        "  #type casting elements\n",
        "\n",
        "  casted_list = []\n",
        "  for item in my_list:\n",
        "        try:\n",
        "            casted_list.append(int(item))\n",
        "        except ValueError:\n",
        "            try:\n",
        "                casted_list.append(float(item))\n",
        "            except ValueError:\n",
        "                casted_list.append(str(item)) # fallback to string\n",
        "\n",
        "  print(\"Casted list:\", casted_list)\n",
        "\n",
        "demonstrate_type_casting()\n"
      ],
      "metadata": {
        "collapsed": true,
        "id": "5JNW7XozpoRd"
      },
      "execution_count": null,
      "outputs": []
    },
    {
      "cell_type": "code",
      "source": [
        "# 11-Write a program that checks if a number is positive, negative, or zero\n",
        "\n",
        "def a(number):\n",
        "  \"\"\"To check if a number is positive, negative, or zero.\"\"\"\n",
        "  if number > 0:\n",
        "    return \"positive\"\n",
        "  elif number < 0:\n",
        "    return \"negative\"\n",
        "  else:\n",
        "    return \"zero\"\n",
        "\n",
        "number = float(input(\"Enter a number: \")) #get input from user and convert to float\n",
        "result = a(number)\n",
        "print(f\"The number is {result}\")"
      ],
      "metadata": {
        "id": "KoCtX9oyjSPD"
      },
      "execution_count": null,
      "outputs": []
    },
    {
      "cell_type": "code",
      "source": [
        "# 12 Write a for loop to print numbers from 1 to 10.\n",
        "\n",
        "l = [1,2,3,4,5,6,7,8,9,10]\n",
        "\n",
        "for i in l:\n",
        "    print(i)"
      ],
      "metadata": {
        "collapsed": true,
        "id": "QBrjQZ2Elz2R"
      },
      "execution_count": null,
      "outputs": []
    },
    {
      "cell_type": "code",
      "source": [
        "# 13 Write a Python program to find the sum of all even numbers between 1 and 50.\n",
        "\n",
        "#function to calculate the sum of even numbers between 1 and 50.\n",
        "\n",
        "def sum_even_number():\n",
        "    sum__of_even = 0\n",
        "    for number in range(1, 51):\n",
        "        if number % 2 == 0:\n",
        "            sum__of_even += number\n",
        "    return sum__of_even\n",
        "\n",
        "total = sum_even_number()\n",
        "print(f\"Sum of even numbers between 1 and 50: {total}\")\n"
      ],
      "metadata": {
        "id": "jaYBchZLoD4S"
      },
      "execution_count": null,
      "outputs": []
    },
    {
      "cell_type": "code",
      "source": [
        "# 14 Write a program to reverse a string using a while loop.\n",
        "\n",
        "def reverse_string(a):\n",
        "    reversed_string= \" \"\n",
        "    index = len(a) - 1\n",
        "\n",
        "    while index >= 0:\n",
        "        reversed_string += a[index]\n",
        "        index -= 1\n",
        "    return reversed_string\n",
        "\n",
        "a = (input(\"Enter a string: \")) #To get input from the user\n",
        "reversed_string = reverse_string(a)\n",
        "print(f\"Reversed string: {reversed_string}\") #output of the the string that is entered\n"
      ],
      "metadata": {
        "id": "UjQXDPhfqWbv"
      },
      "execution_count": null,
      "outputs": []
    },
    {
      "cell_type": "code",
      "source": [
        "# 15  Write a Python program to calculate the factorial of a number provided by the user using a while loop.\n",
        "\n",
        "def factorial_while(n):\n",
        "  \"\"\"\n",
        "  To calculate the factorial of integer using a while loop.\n",
        "\n",
        "  Argument:\n",
        "    n = positive integer\n",
        "\n",
        "  Returns:\n",
        "     Factorial of n, or 1 if n is o\n",
        "     Else Return an error message if n is negative.\n",
        "  \"\"\"\n",
        "\n",
        "  if n < 0:\n",
        "    return \"Factorial is not defined for negative numbers\"\n",
        "  elif n == 0:\n",
        "    return 1\n",
        "  else:\n",
        "    factorial = 1\n",
        "    i = 1\n",
        "    while i <= n:\n",
        "      factorial = factorial * i\n",
        "      i = i + 1\n",
        "    return factorial\n",
        "\n",
        "n = int(input(\"Enter a integer: \"))\n",
        "result = factorial_while(n)\n",
        "print(f\"Factorial of {n}: {result}\")\n",
        "\n"
      ],
      "metadata": {
        "id": "pNpwWuEpuCPr"
      },
      "execution_count": null,
      "outputs": []
    }
  ]
}